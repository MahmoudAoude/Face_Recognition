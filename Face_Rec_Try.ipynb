{
 "cells": [
  {
   "cell_type": "code",
   "execution_count": 9,
   "id": "b77d4973",
   "metadata": {},
   "outputs": [],
   "source": [
    "#Importing Important Packages"
   ]
  },
  {
   "cell_type": "code",
   "execution_count": 10,
   "id": "c6fac054",
   "metadata": {},
   "outputs": [],
   "source": [
    "import face_recognition as fr\n",
    "from pathlib import Path as path\n",
    "import cv2 as cv\n",
    "from numba import jit, cuda"
   ]
  },
  {
   "cell_type": "code",
   "execution_count": 11,
   "id": "e511c98a",
   "metadata": {},
   "outputs": [],
   "source": [
    "#Checking the paths:"
   ]
  },
  {
   "cell_type": "code",
   "execution_count": 18,
   "id": "2aed1798",
   "metadata": {},
   "outputs": [],
   "source": [
    "# p = path('.')\n",
    "# [x for x in p.iterdir() if x.is_dir()]\n",
    "Known_Faces = path('Known_Faces')\n",
    "Unknown_Faces = path('Unknown_Faces')\n",
    "# Known_Me_path = Known_Faces /'Mahmoud'\n",
    "# Known_Lud_path = Known_Faces /'Ludwig'"
   ]
  },
  {
   "cell_type": "code",
   "execution_count": 19,
   "id": "ac0e8acb",
   "metadata": {},
   "outputs": [],
   "source": [
    "#Setting the Tolearnace: it basically allows us to either risk getting a match everytime with a high chance of it being false\n",
    "# or not to get a match but everytime it matches its more accurate\n",
    "TOLERACNCE = 0.6"
   ]
  },
  {
   "cell_type": "code",
   "execution_count": 20,
   "id": "aea27511",
   "metadata": {},
   "outputs": [],
   "source": [
    "#Box Settings:\n",
    "FRAME_THICKNESS= 2\n",
    "FONT_THICKNESS=1"
   ]
  },
  {
   "cell_type": "code",
   "execution_count": 21,
   "id": "f1aec48d",
   "metadata": {},
   "outputs": [],
   "source": [
    "#Model Settings: you could use hog too.\n",
    "MODEL = 'cnn' #is a class of neural networks that \n",
    "#specializes in processing data that has a grid-like topology, such as an image."
   ]
  },
  {
   "cell_type": "code",
   "execution_count": 22,
   "id": "c7988751",
   "metadata": {},
   "outputs": [
    {
     "name": "stdout",
     "output_type": "stream",
     "text": [
      "Loading Known Faces\n"
     ]
    }
   ],
   "source": [
    "#Load Known Faces:\n",
    "print(\"Loading Known Faces\")\n",
    "known_faces = []\n",
    "known_names = []\n",
    "for name in Known_Faces.iterdir(): \n",
    "    #Remove the .ipynb_checkpoints.\n",
    "    if not str(name).startswith('Known_Faces\\.'): \n",
    "#         print(name)\n",
    "        for filename in name.iterdir():\n",
    "            #print(filename)\n",
    "            #Load Image\n",
    "            image = fr.load_image_file(filename)\n",
    "            #Index 0, so it only takes the first face it finds in the image as the person we are interested in.    \n",
    "            encoding = fr.face_encodings(image)[0]\n",
    "            known_faces.append(encoding)\n",
    "#             print('before: ', name)\n",
    "            stripped_name = str(name).strip(\"\\Known_Faces\")\n",
    "            known_names.append(stripped_name)\n",
    "#             print('after: ', stripped_name)"
   ]
  },
  {
   "cell_type": "code",
   "execution_count": 23,
   "id": "806977ad",
   "metadata": {},
   "outputs": [
    {
     "name": "stdout",
     "output_type": "stream",
     "text": [
      "Checking Unknown Faces\n",
      "no Match Found\n",
      "Match found: Ludwig\n",
      "no Match Found\n",
      "Match found: Ludwig\n",
      "Match found: Ludwig\n",
      "no Match Found\n",
      "Match found: Ludwig\n",
      "Match found: Mahmoud\n",
      "Match found: Mahmoud\n",
      "Match found: Mahmoud\n",
      "no Match Found\n",
      "no Match Found\n",
      "no Match Found\n",
      "no Match Found\n",
      "no Match Found\n",
      "no Match Found\n",
      "no Match Found\n"
     ]
    }
   ],
   "source": [
    "#Load Unknown Faces:\n",
    "print(\"Checking Unknown Faces\")\n",
    "for filename in Unknown_Faces.iterdir():\n",
    "#     print(filename)\n",
    "    image= fr.load_image_file(filename)\n",
    "    locations = fr.face_locations(image, model=MODEL)\n",
    "    encodings = fr.face_encodings(image,locations)\n",
    "    image = cv.cvtColor(image,cv.COLOR_RGB2BGR)\n",
    "        #Compare the known faces with the encoding of the unknown and then we will get a lits of booleans.\n",
    "    #Show the Image and the name\n",
    "    for face_encoding , face_location in zip(encodings,locations):\n",
    "        results = fr.compare_faces(known_faces,face_encoding,TOLERACNCE)\n",
    "        match = None\n",
    "        if True in results:\n",
    "            match = known_names[results.index(True)]\n",
    "            print('Match found:', match)\n",
    "            #To draw a rect u just need the top left and bottom right cordinates.\n",
    "            top_left = (face_location[3],face_location[0])\n",
    "            bottom_right = (face_location[1],face_location[2])\n",
    "            color = [255,255,255]\n",
    "            cv.rectangle(image,top_left,bottom_right,color, FRAME_THICKNESS)\n",
    "            cv.putText(image,match,(face_location[3],face_location[2]+10), \n",
    "                        cv.FONT_HERSHEY_DUPLEX, 0.5, (0,255,0), FONT_THICKNESS)\n",
    "        else:\n",
    "            print('no Match Found')\n",
    "            top_left = (face_location[3],face_location[0])\n",
    "            bottom_right = (face_location[1],face_location[2])\n",
    "            color = [0,0,255]\n",
    "            cv.rectangle(image,top_left,bottom_right,color, FRAME_THICKNESS)\n",
    "            cv.putText(image,'no match',(face_location[3],face_location[2]+10), \n",
    "                        cv.FONT_HERSHEY_DUPLEX, 0.5, (0,255,0), FONT_THICKNESS)\n",
    "                \n",
    "    cv.imshow(\"\",image)\n",
    "    cv.waitKey(0)\n",
    "    cv.destroyAllWindows()"
   ]
  },
  {
   "cell_type": "code",
   "execution_count": null,
   "id": "f5d6676d",
   "metadata": {},
   "outputs": [],
   "source": [
    "#Video FR :\n",
    "#Comment out Unknow_faces, because the video is going to be the unknown faces."
   ]
  },
  {
   "cell_type": "code",
   "execution_count": null,
   "id": "9206124e",
   "metadata": {},
   "outputs": [],
   "source": [
    "cam = cv.VideoCapture(1)\n",
    "# cam.set(3,640)\n",
    "# cam.set(4,480)\n",
    "# cv.namedWindow(\"test\")\n",
    "\n",
    "#Similar to the unknown faces part, but instead of the images folder, use the video feed:\n",
    "\n",
    "#Load Unknown Faces:\n",
    "# print(\"Checking Unknown Faces\")\n",
    "while True:\n",
    "#   print(filename)\n",
    "    ret, frame = cam.read()\n",
    "    locations = fr.face_locations(frame, model=MODEL)\n",
    "    encodings = fr.face_encodings(frame,locations)\n",
    "    #Compare the known faces with the encoding of the unknown and then we will get a lits of booleans.\n",
    "    #Show the Image and the name\n",
    "    for face_encoding , face_location in zip(encodings,locations):\n",
    "        results = fr.compare_faces(known_faces,face_encoding,TOLERACNCE)\n",
    "        match = None\n",
    "        if True in results:\n",
    "            match = known_names[results.index(True)]\n",
    "#             print('Match found:', match)\n",
    "            #To draw a rect u just need the top left and bottom right cordinates.\n",
    "            top_left = (face_location[3],face_location[0])\n",
    "            bottom_right = (face_location[1],face_location[2])\n",
    "            color = [255,255,255]\n",
    "            cv.rectangle(frame,top_left,bottom_right,color, FRAME_THICKNESS)\n",
    "            cv.putText(frame,match,(face_location[3],face_location[2]+10), \n",
    "                        cv.FONT_HERSHEY_DUPLEX, 0.5, (0,255,0), FONT_THICKNESS)\n",
    "        else:\n",
    "#             print('no Match Found')\n",
    "            top_left = (face_location[3],face_location[0])\n",
    "            bottom_right = (face_location[1],face_location[2])\n",
    "            color = [0,0,255]\n",
    "            cv.rectangle(frame,top_left,bottom_right,color, FRAME_THICKNESS)\n",
    "            cv.putText(frame,'no match',(face_location[3],face_location[2]+10), \n",
    "                        cv.FONT_HERSHEY_DUPLEX, 0.5, (0,255,0), FONT_THICKNESS)\n",
    "            \n",
    "    cv.imshow(\"\",frame)\n",
    "    k = cv.waitKey(1)\n",
    "    if k%256 == 27:\n",
    "        #esc\n",
    "        print(\"Closing\")\n",
    "        break\n",
    "cv.waitKey(0)\n",
    "cv.destroyAllWindows()"
   ]
  },
  {
   "cell_type": "code",
   "execution_count": null,
   "id": "bbf15d70",
   "metadata": {},
   "outputs": [],
   "source": []
  }
 ],
 "metadata": {
  "kernelspec": {
   "display_name": "Python 3 (ipykernel)",
   "language": "python",
   "name": "python3"
  },
  "language_info": {
   "codemirror_mode": {
    "name": "ipython",
    "version": 3
   },
   "file_extension": ".py",
   "mimetype": "text/x-python",
   "name": "python",
   "nbconvert_exporter": "python",
   "pygments_lexer": "ipython3",
   "version": "3.9.7"
  }
 },
 "nbformat": 4,
 "nbformat_minor": 5
}
